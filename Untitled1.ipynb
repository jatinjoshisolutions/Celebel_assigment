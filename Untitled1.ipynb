{
  "nbformat": 4,
  "nbformat_minor": 0,
  "metadata": {
    "colab": {
      "provenance": []
    },
    "kernelspec": {
      "name": "python3",
      "display_name": "Python 3"
    },
    "language_info": {
      "name": "python"
    }
  },
  "cells": [
    {
      "cell_type": "code",
      "source": [
        "!pip install streamlit pyngrok scikit-learn pandas matplotlib plotly joblib --quiet\n"
      ],
      "metadata": {
        "colab": {
          "base_uri": "https://localhost:8080/"
        },
        "id": "tsx5pr-akuk3",
        "outputId": "7f4a560d-27b6-484c-8760-14a34c82df96"
      },
      "execution_count": 9,
      "outputs": [
        {
          "output_type": "stream",
          "name": "stdout",
          "text": [
            "\u001b[2K     \u001b[90m━━━━━━━━━━━━━━━━━━━━━━━━━━━━━━━━━━━━━━━\u001b[0m \u001b[32m44.3/44.3 kB\u001b[0m \u001b[31m792.4 kB/s\u001b[0m eta \u001b[36m0:00:00\u001b[0m\n",
            "\u001b[2K   \u001b[90m━━━━━━━━━━━━━━━━━━━━━━━━━━━━━━━━━━━━━━━━\u001b[0m \u001b[32m9.9/9.9 MB\u001b[0m \u001b[31m37.5 MB/s\u001b[0m eta \u001b[36m0:00:00\u001b[0m\n",
            "\u001b[2K   \u001b[90m━━━━━━━━━━━━━━━━━━━━━━━━━━━━━━━━━━━━━━━━\u001b[0m \u001b[32m6.9/6.9 MB\u001b[0m \u001b[31m86.5 MB/s\u001b[0m eta \u001b[36m0:00:00\u001b[0m\n",
            "\u001b[2K   \u001b[90m━━━━━━━━━━━━━━━━━━━━━━━━━━━━━━━━━━━━━━━━\u001b[0m \u001b[32m79.1/79.1 kB\u001b[0m \u001b[31m6.0 MB/s\u001b[0m eta \u001b[36m0:00:00\u001b[0m\n",
            "\u001b[?25h"
          ]
        }
      ]
    },
    {
      "cell_type": "code",
      "source": [
        "import pandas as pd\n",
        "from sklearn.datasets import load_iris\n",
        "from sklearn.ensemble import RandomForestClassifier\n",
        "import joblib\n",
        "\n",
        "iris = load_iris()\n",
        "X = pd.DataFrame(iris.data, columns=iris.feature_names)\n",
        "y = iris.target\n",
        "\n",
        "model = RandomForestClassifier(random_state=42)\n",
        "model.fit(X, y)\n",
        "\n",
        "joblib.dump(model, 'iris_model.pkl')\n"
      ],
      "metadata": {
        "colab": {
          "base_uri": "https://localhost:8080/"
        },
        "id": "X2FwXiilkyp_",
        "outputId": "99da416a-f6b4-4796-9f7c-563714b69aaa"
      },
      "execution_count": 10,
      "outputs": [
        {
          "output_type": "execute_result",
          "data": {
            "text/plain": [
              "['iris_model.pkl']"
            ]
          },
          "metadata": {},
          "execution_count": 10
        }
      ]
    },
    {
      "cell_type": "code",
      "source": [
        "%%writefile app.py\n",
        "import streamlit as st\n",
        "import pandas as pd\n",
        "import numpy as np\n",
        "import joblib\n",
        "import matplotlib.pyplot as plt\n",
        "import plotly.express as px\n",
        "\n",
        "@st.cache_data\n",
        "def load_model():\n",
        "    return joblib.load('iris_model.pkl')\n",
        "\n",
        "model = load_model()\n",
        "\n",
        "st.title('🌼 Iris Species Prediction App')\n",
        "st.write(\"Input flower features to predict iris species. 🚀\")\n",
        "\n",
        "def user_input_features():\n",
        "    sepal_length = st.slider('Sepal length (cm)', 4.0, 8.0, 5.8)\n",
        "    sepal_width = st.slider('Sepal width (cm)', 2.0, 4.5, 3.0)\n",
        "    petal_length = st.slider('Petal length (cm)', 1.0, 7.0, 4.35)\n",
        "    petal_width = st.slider('Petal width (cm)', 0.1, 2.5, 1.3)\n",
        "    features = {\n",
        "        'sepal length (cm)': sepal_length,\n",
        "        'sepal width (cm)': sepal_width,\n",
        "        'petal length (cm)': petal_length,\n",
        "        'petal width (cm)': petal_width\n",
        "    }\n",
        "    return pd.DataFrame([features])\n",
        "\n",
        "input_df = user_input_features()\n",
        "\n",
        "st.subheader('🌿 Input Data')\n",
        "st.write(input_df)\n",
        "\n",
        "if st.button('🎯 Predict Species'):\n",
        "    prediction = model.predict(input_df)[0]\n",
        "    prediction_proba = model.predict_proba(input_df)[0]\n",
        "\n",
        "    target_names = ['Setosa', 'Versicolor', 'Virginica']\n",
        "    st.success(f\"🌸 Predicted Species: {target_names[prediction]}\")\n",
        "\n",
        "    st.subheader('📊 Prediction Probabilities')\n",
        "    st.write({name: f\"{prob:.2%}\" for name, prob in zip(target_names, prediction_proba)})\n",
        "\n",
        "    fig = px.bar(\n",
        "        x=target_names,\n",
        "        y=prediction_proba,\n",
        "        labels={'x': 'Species', 'y': 'Probability'},\n",
        "        title='Model Confidence by Species',\n",
        "        color=target_names,\n",
        "        color_discrete_sequence=px.colors.qualitative.Bold\n",
        "    )\n",
        "    st.plotly_chart(fig)\n",
        "\n",
        "st.subheader('🧠 Feature Importances')\n",
        "feature_importance = model.feature_importances_\n",
        "features = input_df.columns.tolist()\n",
        "\n",
        "fig2, ax = plt.subplots()\n",
        "ax.barh(features, feature_importance, color='skyblue')\n",
        "ax.set_xlabel('Importance')\n",
        "ax.set_title('Model Feature Importances')\n",
        "st.pyplot(fig2)\n"
      ],
      "metadata": {
        "colab": {
          "base_uri": "https://localhost:8080/"
        },
        "id": "N4zn1NWvk0Qd",
        "outputId": "71c199a3-3b4c-4719-e851-5436215365db"
      },
      "execution_count": 11,
      "outputs": [
        {
          "output_type": "stream",
          "name": "stdout",
          "text": [
            "Overwriting app.py\n"
          ]
        }
      ]
    },
    {
      "cell_type": "code",
      "source": [
        "from pyngrok import ngrok\n",
        "ngrok.set_auth_token(\"CHJCUPLQM6PQ4VDZMR47TDQEXBWOCLW2\")\n"
      ],
      "metadata": {
        "id": "l4q0r3M6k5U7"
      },
      "execution_count": 13,
      "outputs": []
    },
    {
      "cell_type": "code",
      "source": [
        "!streamlit run app.py &\n",
        "\n"
      ],
      "metadata": {
        "colab": {
          "base_uri": "https://localhost:8080/"
        },
        "id": "RqIp7SQllEm7",
        "outputId": "0f37c379-19db-43a7-d37b-20584c6f8ef6"
      },
      "execution_count": null,
      "outputs": [
        {
          "output_type": "stream",
          "name": "stdout",
          "text": [
            "\n",
            "Collecting usage statistics. To deactivate, set browser.gatherUsageStats to false.\n",
            "\u001b[0m\n",
            "\u001b[0m\n",
            "\u001b[34m\u001b[1m  You can now view your Streamlit app in your browser.\u001b[0m\n",
            "\u001b[0m\n",
            "\u001b[34m  Local URL: \u001b[0m\u001b[1mhttp://localhost:8503\u001b[0m\n",
            "\u001b[34m  Network URL: \u001b[0m\u001b[1mhttp://172.28.0.12:8503\u001b[0m\n",
            "\u001b[34m  External URL: \u001b[0m\u001b[1mhttp://35.221.199.52:8503\u001b[0m\n",
            "\u001b[0m\n"
          ]
        }
      ]
    },
    {
      "cell_type": "code",
      "source": [
        "from pyngrok import ngrok\n",
        "public_url = ngrok.connect(8501)\n",
        "print(\"Your Streamlit app is live at:\", public_url)"
      ],
      "metadata": {
        "id": "AdKbTaxmljsg"
      },
      "execution_count": null,
      "outputs": []
    }
  ]
}